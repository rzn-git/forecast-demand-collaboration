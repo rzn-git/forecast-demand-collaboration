{
 "cells": [
  {
   "cell_type": "code",
   "execution_count": 7,
   "metadata": {},
   "outputs": [
    {
     "name": "stdout",
     "output_type": "stream",
     "text": [
      "Neighbor store IDs have been exported to 'neighbor_store_ids_2.csv'.\n"
     ]
    }
   ],
   "source": [
    "import h3\n",
    "import pandas as pd\n",
    "\n",
    "# Load the CSV file\n",
    "df = pd.read_csv('dataset/sales_4.csv')\n",
    "\n",
    "# Step 1: Filter out duplicate store entries (based on store_id)\n",
    "df_unique = df.drop_duplicates(subset=['store_id', 'latitude', 'longitude'])\n",
    "\n",
    "# Step 2: Create a dictionary to store the store_id and its corresponding H3 index at resolution 3\n",
    "store_h3_map = {}\n",
    "\n",
    "# Convert latitude and longitude to H3 index at resolution 3 for each unique store\n",
    "for index, row in df_unique.iterrows():    \n",
    "    store_id = row['store_id']\n",
    "    h3_index = h3.latlng_to_cell(row['latitude'], row['longitude'], 3)\n",
    "    store_h3_map[store_id] = h3_index\n",
    "\n",
    "# Step 3: Find the neighboring stores for each store\n",
    "neighbors = {}\n",
    "\n",
    "for store_id, h3_index in store_h3_map.items():\n",
    "    # Get the neighboring H3 cells within 1-cell radius\n",
    "    neighbor_cells = h3.grid_disk(h3_index, 2)\n",
    "    # Find the store_ids that correspond to these neighboring cells\n",
    "    neighbor_store_ids = [\n",
    "        neighbor_store_id\n",
    "        for neighbor_store_id, neighbor_h3_index in store_h3_map.items()\n",
    "        if neighbor_h3_index in neighbor_cells and neighbor_store_id != store_id\n",
    "    ]\n",
    "    neighbors[store_id] = neighbor_store_ids\n",
    "\n",
    "# Step 4: Export the result to a CSV file\n",
    "output_data = []\n",
    "\n",
    "# Flatten the dictionary into a list of rows\n",
    "for store_id, neighbor_store_ids in neighbors.items():\n",
    "    for neighbor_store_id in neighbor_store_ids:\n",
    "        output_data.append({'store_id': store_id, 'neighbor_store_id': neighbor_store_id})\n",
    "\n",
    "# Create a new DataFrame and export it\n",
    "output_df = pd.DataFrame(output_data)\n",
    "output_df.to_csv('neighbor_store_ids.csv', index=False)\n",
    "\n",
    "print(\"Neighbor store IDs have been exported to 'neighbor_store_ids_2.csv'.\")\n"
   ]
  }
 ],
 "metadata": {
  "kernelspec": {
   "display_name": "Python 3",
   "language": "python",
   "name": "python3"
  },
  "language_info": {
   "codemirror_mode": {
    "name": "ipython",
    "version": 3
   },
   "file_extension": ".py",
   "mimetype": "text/x-python",
   "name": "python",
   "nbconvert_exporter": "python",
   "pygments_lexer": "ipython3",
   "version": "3.12.7"
  }
 },
 "nbformat": 4,
 "nbformat_minor": 2
}
